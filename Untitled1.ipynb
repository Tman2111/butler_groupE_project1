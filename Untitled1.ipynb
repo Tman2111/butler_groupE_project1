{
 "cells": [
  {
   "cell_type": "markdown",
   "metadata": {},
   "source": [
    "Our project is to uncover patterns in music on Spotify between 2010 and 2019. We'll examine musical trends and genres through the years; which artists appeared most frequently, and how beats per minute correlate to dancibility.\n",
    "\n",
    "What is the most popular genre?\n",
    "\n",
    "Who is the most popular artist?\n",
    "\n",
    "Did we see artists make the top ten for various years or just one?\n",
    "\n",
    "Do beats per minute correlate to ‘dancibility’?\n",
    "\n",
    "What is the statistical analysis for beats per minute?\n",
    "\n",
    "Are any of the songs outliers?\n",
    "\n",
    "Tasks Collect the Data Clean and merge data Explore the data Create Analysis Create the Presentation\n",
    "\n"
   ]
  },
  {
   "cell_type": "code",
   "execution_count": null,
   "metadata": {},
   "outputs": [],
   "source": [
    "# Import Dependencies\n",
    "import pandas as pd\n",
    "import matplotlib.pyplot as plt\n",
    "import os\n",
    "import csv\n",
    "import numpy as np\n",
    "import scipy.stats as st\n",
    "from scipy.stats import iqr\n",
    "from scipy.stats import linregress\n"
   ]
  },
  {
   "cell_type": "code",
   "execution_count": null,
   "metadata": {},
   "outputs": [],
   "source": [
    "#Import data\n",
    "music_data_to_load = \"top10s.csv\""
   ]
  },
  {
   "cell_type": "code",
   "execution_count": null,
   "metadata": {},
   "outputs": [],
   "source": [
    "# Data File and store into Pandas DataFrames\n",
    "music_data_pd = pd.read_csv(music_data_to_load, sep=',', encoding='latin-1')\n",
    "music_data_pd.head()"
   ]
  },
  {
   "cell_type": "code",
   "execution_count": null,
   "metadata": {},
   "outputs": [],
   "source": [
    "music_data_pd[\"top genre\"].value_counts()"
   ]
  },
  {
   "cell_type": "code",
   "execution_count": null,
   "metadata": {},
   "outputs": [],
   "source": [
    "top_genre_df = pd.DataFrame({\"total\":  music_data_pd[\"top genre\"].value_counts()})\n",
    "top_genre_df.head()"
   ]
  },
  {
   "cell_type": "code",
   "execution_count": null,
   "metadata": {},
   "outputs": [],
   "source": [
    "# Determine most popular genre overall \n",
    "# top_genre = music_data_pd.groupby([\"top genre\"])\n",
    "top_genre_df = pd.DataFrame({\"total\":  music_data_pd[\"top genre\"].value_counts()})\n",
    "top_genre_df = top_genre_df.sort_values(\"total\", ascending=False)\n",
    "top_genre_df\n",
    "top_genre_df.reset_index(inplace=True)\n",
    "top_genre_df\n",
    "top_genre_df.columns = [\"genre\", \"total\"]\n",
    "top_genre_df"
   ]
  },
  {
   "cell_type": "code",
   "execution_count": null,
   "metadata": {},
   "outputs": [],
   "source": [
    "# Graph popular genre overall\n",
    "plt.figure(figsize=[15,10])\n",
    "x_values=top_genre_df['genre']\n",
    "y_values=top_genre_df['total']\n",
    "\n",
    "plt.bar(x_values, y_values, color = 'g')\n",
    "plt.xlabel('genre', fontsize = 12)\n",
    "plt.xticks(rotation='vertical')\n",
    "\n",
    "plt.ylabel('total', fontsize = 12)\n",
    "plt.title('Most Popular Genre Overall')\n",
    "plt.show()\n",
    "\n",
    "# save plot as .pngs\n",
    "plt.savefig(\"images/Most Popular Genre Overall.png\")\n"
   ]
  },
  {
   "cell_type": "code",
   "execution_count": null,
   "metadata": {},
   "outputs": [],
   "source": [
    "# Determine most popular genre by year\n",
    "top_genre_year_df = music_data_pd.groupby([\"year\", \"top genre\"]).count()\n",
    "top_genre_year_df = top_genre_year_df.sort_values([\"year\", \"Unnamed: 0\"], ascending=False)\n",
    "#top_genre_year_df.head()\n",
    "clean_by_year_df = top_genre_year_df.drop(['title', 'artist', 'bpm', 'nrgy', 'dnce', 'dB', 'live', 'val', 'dur',\n",
    "                                           'acous', 'spch', 'pop' ], axis=1)\n",
    "#clean_by_year_df\n",
    "\n",
    "cleaner_by_year_df = clean_by_year_df[(clean_by_year_df['Unnamed: 0']>11)]\n",
    "cleaner_by_year_df.reset_index(inplace=True)\n",
    "cleaner_by_year_df.columns = [\"Year\", \"Top Genre\", \"Total\"]\n",
    "cleaner_by_year_df"
   ]
  },
  {
   "cell_type": "code",
   "execution_count": null,
   "metadata": {},
   "outputs": [],
   "source": [
    "plt.figure(figsize=[15,10])\n",
    "x_axis=cleaner_by_year_df['Year']\n",
    "y_axis=cleaner_by_year_df['Total']\n",
    "\n",
    "plt.bar(x_axis, y_axis, color = 'g')\n",
    "plt.xlabel('Year', fontsize = 12)\n",
    "plt.xticks(rotation='vertical')\n",
    "\n",
    "plt.ylabel('Total', fontsize = 12)\n",
    "plt.title('Most Popular Genre: Dance Pop by Year')\n",
    "plt.show()\n",
    "\n",
    "# save plot as .pngs\n",
    "plt.savefig(\"images/Most Popular Genre Overall.png\")\n"
   ]
  },
  {
   "cell_type": "code",
   "execution_count": null,
   "metadata": {},
   "outputs": [],
   "source": [
    "# Most popular artist overall\n",
    "top_artist_df = pd.DataFrame({\"total\":  music_data_pd[\"artist\"].value_counts()})\n",
    "top_artist_df = top_artist_df[(top_artist_df['total']>9)]\n",
    "top_artist_df = top_artist_df.sort_values(\"total\", ascending=False)\n",
    "top_artist_df.reset_index(inplace=True)\n",
    "top_artist_df.columns = [\"artist\", \"total\"]\n",
    "top_artist_df"
   ]
  },
  {
   "cell_type": "code",
   "execution_count": null,
   "metadata": {},
   "outputs": [],
   "source": [
    "# Graph most popular artist overall\n",
    "plt.figure(figsize=[15,10])\n",
    "x_values=top_artist_df['artist']\n",
    "y_values=top_artist_df['total']\n",
    "\n",
    "plt.bar(x_values, y_values, color = 'b')\n",
    "plt.xlabel('Artist', fontsize = 16)\n",
    "plt.xticks(rotation='45', fontsize = 14)\n",
    "\n",
    "plt.ylabel('Total', fontsize = 16)\n",
    "plt.title('Most Popular Artist Overall')\n",
    "plt.show()\n",
    "\n",
    "# save plot as .pngs\n",
    "plt.savefig(\"images/Most Popular Artist Overall.png\")"
   ]
  },
  {
   "cell_type": "code",
   "execution_count": null,
   "metadata": {},
   "outputs": [],
   "source": []
  },
  {
   "cell_type": "code",
   "execution_count": null,
   "metadata": {},
   "outputs": [],
   "source": []
  },
  {
   "cell_type": "code",
   "execution_count": null,
   "metadata": {},
   "outputs": [],
   "source": []
  },
  {
   "cell_type": "code",
   "execution_count": null,
   "metadata": {},
   "outputs": [],
   "source": []
  },
  {
   "cell_type": "code",
   "execution_count": null,
   "metadata": {},
   "outputs": [],
   "source": []
  },
  {
   "cell_type": "code",
   "execution_count": null,
   "metadata": {},
   "outputs": [],
   "source": []
  },
  {
   "cell_type": "code",
   "execution_count": null,
   "metadata": {},
   "outputs": [],
   "source": []
  }
 ],
 "metadata": {
  "kernelspec": {
   "display_name": "Python 3",
   "language": "python",
   "name": "python3"
  },
  "language_info": {
   "codemirror_mode": {
    "name": "ipython",
    "version": 3
   },
   "file_extension": ".py",
   "mimetype": "text/x-python",
   "name": "python",
   "nbconvert_exporter": "python",
   "pygments_lexer": "ipython3",
   "version": "3.8.5"
  }
 },
 "nbformat": 4,
 "nbformat_minor": 4
}
