{
 "cells": [
  {
   "cell_type": "markdown",
   "metadata": {},
   "source": [
    "Our project is to uncover patterns in music on Spotify between 2010 and 2019. We'll examine musical trends and genres through the years; which artists appeared most frequently.\n",
    "\n",
    "* Did we see artists make the top ten for various years or just one?\n",
    "\n",
    "* Do beats per minute correlate to ‘dancibility’?\n",
    "\n",
    "* What is the statistical analysis for beats per minute?\n",
    "\n",
    "* Are any of the songs outliers?\n",
    "\n",
    "* What is the most popular genre?\n",
    "\n",
    "* What is the least popular genre?\n",
    "\n",
    "* Who is the most popular artist?\n",
    "\n",
    "* Who is the least popular artist?\n",
    "\n",
    "# Tasks\n",
    "* Collect the Data\n",
    "* Clean and merge data\n",
    "* Explore the data\n",
    "* Create Analysis\n",
    "* Create the Presentation"
   ]
  },
  {
   "cell_type": "code",
   "execution_count": 1,
   "metadata": {},
   "outputs": [],
   "source": [
    "# Import Dependencies\n",
    "import pandas as pd\n",
    "import matplotlib.pyplot as plt\n",
    "import os\n",
    "import csv\n",
    "\n",
    "\n"
   ]
  },
  {
   "cell_type": "code",
   "execution_count": 7,
   "metadata": {},
   "outputs": [
    {
     "name": "stdout",
     "output_type": "stream",
     "text": [
      "\"\",\"title\",\"artist\",\"top genre\",\"year\",\"bpm\",\"nrgy\",\"dnce\",\"dB\",\"live\",\"val\",\"dur\",\"acous\",\"spch\",\"pop\"\n",
      "\n"
     ]
    }
   ],
   "source": [
    "# Data path\n",
    "csvpath = os.path.join(\"top10s.csv\")\n",
    "\n",
    "with open (csvpath, \"r\") as csvfile:\n",
    " \n",
    "    csvreader = csv.reader(csvfile, delimiter=',')\n",
    "    #read the header row   \n",
    "    csv_header = next(csvfile)\n",
    "    \n",
    "\n",
    "    #print first row/test\n",
    "    print(csv_header)    "
   ]
  },
  {
   "cell_type": "code",
   "execution_count": null,
   "metadata": {},
   "outputs": [],
   "source": []
  },
  {
   "cell_type": "code",
   "execution_count": null,
   "metadata": {},
   "outputs": [],
   "source": []
  },
  {
   "cell_type": "code",
   "execution_count": null,
   "metadata": {},
   "outputs": [],
   "source": []
  },
  {
   "cell_type": "code",
   "execution_count": null,
   "metadata": {},
   "outputs": [],
   "source": []
  }
 ],
 "metadata": {
  "kernelspec": {
   "display_name": "Python 3",
   "language": "python",
   "name": "python3"
  },
  "language_info": {
   "codemirror_mode": {
    "name": "ipython",
    "version": 3
   },
   "file_extension": ".py",
   "mimetype": "text/x-python",
   "name": "python",
   "nbconvert_exporter": "python",
   "pygments_lexer": "ipython3",
   "version": "3.8.5"
  }
 },
 "nbformat": 4,
 "nbformat_minor": 4
}
